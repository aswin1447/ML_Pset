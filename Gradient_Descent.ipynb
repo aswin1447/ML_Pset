{
 "cells": [
  {
   "cell_type": "markdown",
   "metadata": {},
   "source": [
    "# Gradient Descent"
   ]
  },
  {
   "cell_type": "markdown",
   "metadata": {},
   "source": [
    "* A Function $f \\colon \\mathbb{R^{n}} \\to \\mathbb{R}$ which is convex and differentiable.We want to solve $$min_{x \\in \\mathbb{R}} f(x)$$ i.e, to find $x^{*}$ such that $f(x^{*})=min$ $ f(x) $\n",
    "\n",
    "### Local Search \n",
    " * Initalize $x$ arbitrarily\n",
    " * Repeat until $x$ converges\n",
    "      * find some $x^{'}$ close to x with $f(x^{'})<f(x)$\n",
    "      * $x$ $ \\colon = x^{'}$\n",
    "      \n",
    "      \n",
    " ### For minimizing a function $f(x)$\n",
    "   *  $x_{0}=0$,  $t=0$ \n",
    "   * While $\\nabla(x_{t}) \\neq 0 \\colon $\n",
    "      * $x_{t+1}$= $x_{t}-\\eta_{t} \\nabla f(x_{t})$\n",
    "      * $t$ $=$ $t+1$ \n",
    "    \n",
    "    \n",
    "   * $\\eta_{t}$ is step size at time $t$\n",
    "   * $x$ $\\in$ $\\mathbb{R}^{n}$"
   ]
  },
  {
   "cell_type": "code",
   "execution_count": null,
   "metadata": {},
   "outputs": [],
   "source": []
  }
 ],
 "metadata": {
  "kernelspec": {
   "display_name": "Python 3",
   "language": "python",
   "name": "python3"
  },
  "language_info": {
   "codemirror_mode": {
    "name": "ipython",
    "version": 3
   },
   "file_extension": ".py",
   "mimetype": "text/x-python",
   "name": "python",
   "nbconvert_exporter": "python",
   "pygments_lexer": "ipython3",
   "version": "3.6.9"
  }
 },
 "nbformat": 4,
 "nbformat_minor": 2
}
