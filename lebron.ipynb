{
 "cells": [
  {
   "cell_type": "code",
   "execution_count": 5,
   "metadata": {},
   "outputs": [],
   "source": [
    "import pandas as pd\n",
    "import numpy as np\n",
    "from basketball_reference_scraper.players import get_stats, get_game_logs\n",
    "\n",
    "df = get_game_logs('LeBron James', '2014-10-19', '2019-12-31', playoffs=False)\n",
    "#print(df)\n",
    "\n",
    "lebron=df.to_numpy()"
   ]
  },
  {
   "cell_type": "code",
   "execution_count": 6,
   "metadata": {
    "scrolled": true
   },
   "outputs": [],
   "source": [
    "ast=lebron[:,20]\n",
    "pts=lebron[:,25]\n",
    "WL=lebron[:,5]\n",
    "trb=lebron[:,19]\n",
    "pm=lebron[:,27]\n",
    "fgp=lebron[:,10]\n",
    "stl=lebron[:,21]\n",
    "PM=np.zeros(len(pts))\n",
    "FGP=np.zeros(len(pts))\n",
    "STL=np.zeros(len(pts))\n",
    "AST=np.zeros(len(pts))\n",
    "PTS=np.zeros(len(pts))\n",
    "TRB=np.zeros(len(pts))\n",
    "\n",
    "\n",
    "\n",
    "for i in range(len(ast)):\n",
    "    AST[i]=float(ast[i])\n",
    "    PTS[i]=float(pts[i])\n",
    "    TRB[i]=float(trb[i])\n",
    "    PM[i]=int(pm[i])\n",
    "    FGP[i]=float(fgp[i])\n",
    "    STL[i]=int(stl[i])\n",
    "\n",
    "\n",
    "    \n",
    "\n"
   ]
  },
  {
   "cell_type": "code",
   "execution_count": 7,
   "metadata": {},
   "outputs": [],
   "source": [
    "for i in range(len(WL)):\n",
    "    \n",
    "    if WL[i][0]=='W':\n",
    "        WL[i]=1\n",
    "        \n",
    "        continue\n",
    "    \n",
    "    if WL[i][0]=='L':\n",
    "        WL[i]=-1\n",
    "        \n",
    "        \n",
    "        \n",
    "      \n",
    "        \n",
    "\n",
    "\n",
    "    "
   ]
  },
  {
   "cell_type": "code",
   "execution_count": 8,
   "metadata": {
    "scrolled": true
   },
   "outputs": [],
   "source": [
    "x=np.zeros((len(WL),3))\n",
    "\n",
    "x[:,0]=TRB+AST+STL\n",
    "x[:,1]=PM\n",
    "x[:,2]=PTS\n",
    "y=WL\n",
    "#x[:,0]\n"
   ]
  },
  {
   "cell_type": "code",
   "execution_count": 9,
   "metadata": {},
   "outputs": [],
   "source": [
    "def evaluate_classifier(w,b,x):\n",
    "    if (np.dot(w,x)+b)>0:\n",
    "        return 1\n",
    "    if (np.dot(w,x)+b)<0:\n",
    "        return -1\n",
    "    return 0"
   ]
  },
  {
   "cell_type": "code",
   "execution_count": 10,
   "metadata": {},
   "outputs": [],
   "source": [
    "def train_perceptron(x,y,n_iters):\n",
    "    n=len(y)\n",
    "    d=3\n",
    "    w=np.zeros((d,))\n",
    "    b=0\n",
    "    done = False\n",
    "    converged = True\n",
    "    iters = 0\n",
    "    np.random.seed(None)\n",
    "    while not (done):\n",
    "        \n",
    "        done = True\n",
    "        I=np.random.permutation(n)\n",
    "        \n",
    "        for i in range(n):\n",
    "            j=I[i]\n",
    "            \n",
    "            if (evaluate_classifier(w,b,x[j,:])!=y[j]) :\n",
    "                w=w+y[j]*x[j,:]\n",
    "                b=b+y[j]\n",
    "                done = False\n",
    "                \n",
    "        iters=iters+1\n",
    "        \n",
    "        if iters > n_iters:\n",
    "            done = True\n",
    "            converged = False\n",
    "    if converged:\n",
    "        print (\"Perceptron algorithm: iterations until convergence: \", iters)\n",
    "    else:\n",
    "        print (\"Perceptron algorithm: did not converge within the specified number of iterations\")\n",
    "    return w, b, converged ,n_iters"
   ]
  },
  {
   "cell_type": "code",
   "execution_count": 11,
   "metadata": {},
   "outputs": [
    {
     "name": "stdout",
     "output_type": "stream",
     "text": [
      "Perceptron algorithm: did not converge within the specified number of iterations\n"
     ]
    }
   ],
   "source": [
    "w,b,converged,n=train_perceptron(x,y,1000)"
   ]
  },
  {
   "cell_type": "code",
   "execution_count": 12,
   "metadata": {},
   "outputs": [
    {
     "name": "stdout",
     "output_type": "stream",
     "text": [
      "[ 4. 83. 28.] -385 False 1000\n"
     ]
    }
   ],
   "source": [
    "print(w,b,converged,n)"
   ]
  },
  {
   "cell_type": "code",
   "execution_count": 15,
   "metadata": {},
   "outputs": [
    {
     "data": {
      "image/png": "[encoded data removed]",
      "text/plain": [
       "<Figure size 432x288 with 1 Axes>"
      ]
     },
     "metadata": {},
     "output_type": "display_data"
    }
   ],
   "source": [
    "import matplotlib.pyplot as plt\n",
    "\n",
    "fig = plt.figure()\n",
    "#ax = plt.axes(projection=\"3d\")\n",
    "\n",
    "\n",
    "\n",
    "\n",
    "plt.plot(x[(y==1),0], x[(y==1),1], 'ro')\n",
    "plt.plot(x[(y==-1),0], x[(y==-1),1], 'k^')\n",
    "\n",
    "plt.show()"
   ]
  },
  {
   "cell_type": "code",
   "execution_count": null,
   "metadata": {},
   "outputs": [],
   "source": []
  }
 ],
 "metadata": {
  "kernelspec": {
   "display_name": "Python 3",
   "language": "python",
   "name": "python3"
  },
  "language_info": {
   "codemirror_mode": {
    "name": "ipython",
    "version": 3
   },
   "file_extension": ".py",
   "mimetype": "text/x-python",
   "name": "python",
   "nbconvert_exporter": "python",
   "pygments_lexer": "ipython3",
   "version": "3.6.9"
  }
 },
 "nbformat": 4,
 "nbformat_minor": 2
}
