{
 "cells": [
  {
   "cell_type": "markdown",
   "metadata": {},
   "source": [
    "# Nearest Neighbour Classification"
   ]
  },
  {
   "cell_type": "markdown",
   "metadata": {},
   "source": [
    "* Classifiction problem -Given a new object, we have to find the class it belongs to.\n",
    "* Training Set - Set of classified data i.e the label for each object is known,used for training the model\n",
    "* Test Set -Set of objects with known label.Used to validate the classification model i.e after training the model ,we have to check the model with labelled data so as to know how good is the model"
   ]
  },
  {
   "cell_type": "markdown",
   "metadata": {},
   "source": [
    "* Idea - as the name \"Nearest neighbour\" suggest ,we use here the notion of distance.This is accomplished by using the mathematical idea of norm.\n",
    "\n"
   ]
  },
  {
   "cell_type": "markdown",
   "metadata": {},
   "source": [
    "# Mathematical prelimanaries"
   ]
  },
  {
   "cell_type": "markdown",
   "metadata": {},
   "source": [
    " *  ** norm** -a norm is a function from a vector space over the real or complex numbers to the nonnegative real numbers that satisfies certain properties pertaining to scalability and additivity, and takes the value zero if only the input vector is zero.\n",
    " \n",
    " * ** Euclidean norm or 2-norm ** is a specific norm on a Euclidean vector space, that is strongly related with the Euclidean distance, and equals the square root of the inner product of a vector with itself.\n",
    " * On an n-dimensional Euclidean space $ R^{n}$, the intuitive notion of length of the vector x = (x1, x2, ..., xn) is captured by the formula\n",
    " \n",
    "    $$ \\Vert\\left(x)\\vert\\right\\vert_{2} =\\sqrt{x_{1}^{2}+...+x_{n}^{2}} $$\n",
    "    \n",
    " * The above definition gives distance between two vectors as the euclidean norm of the component wise difference i.e if $x,y \\in R^{n}$ then $ \\Vert\\left(x-y)\\vert\\right\\vert_{2} = \\sqrt{\\sum\\limits_{i=1}^{n}(x_{i}-y{i})^{2}} $"
   ]
  },
  {
   "cell_type": "markdown",
   "metadata": {},
   "source": [
    "# Details"
   ]
  },
  {
   "cell_type": "markdown",
   "metadata": {},
   "source": [
    "  * **Data space **   *X* $=  R^{n}$\n",
    "  * ** Label space **  *Y* \n",
    "  \n",
    "  * ** Training set **     $x^{i},...,x^{n}$, labels $y^{1},...,y^{n}$\n",
    "  \n",
    "  * To classify a new data point x:\n",
    "   * Find  it's nearest neighbour amongst $x^{i}$ using Eucliden distance in $R^{n}$\n",
    "   * Return $y^{i}$\n",
    "   \n",
    "   ## Accuracy\n",
    "   \n",
    "   * **Training Error** - The error in finding the nearest neighbour of $x^{i} \\in X$ in the set $X$ .This is obviosly zero.In general, training error is an overly optimistic predictor of future performance.\n",
    "   * **Test Error ** = fraction of test points incorrectly classified"
   ]
  },
  {
   "cell_type": "code",
   "execution_count": null,
   "metadata": {},
   "outputs": [],
   "source": []
  }
 ],
 "metadata": {
  "kernelspec": {
   "display_name": "Python 3",
   "language": "python",
   "name": "python3"
  },
  "language_info": {
   "codemirror_mode": {
    "name": "ipython",
    "version": 3
   },
   "file_extension": ".py",
   "mimetype": "text/x-python",
   "name": "python",
   "nbconvert_exporter": "python",
   "pygments_lexer": "ipython3",
   "version": "3.6.9"
  }
 },
 "nbformat": 4,
 "nbformat_minor": 2
}
